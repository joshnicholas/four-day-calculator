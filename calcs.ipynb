{
 "cells": [
  {
   "cell_type": "code",
   "execution_count": 15,
   "id": "0c1b7b8b",
   "metadata": {},
   "outputs": [],
   "source": [
    "import pandas as pd\n",
    "\n",
    "from sudulunu.helpers import pp, dumper\n",
    "import pathlib \n",
    "import os \n",
    "import json\n",
    "\n",
    "rename = {\n",
    "\t\t\"NSW\": 'New South Wales',\n",
    "\t\t\"QLD\": 'Queensland',\n",
    "\t\t'TAS': 'Tasmania',\n",
    "\t\t'VIC':'Victoria',\n",
    "\t\t'WA':'Western Australia',\n",
    "\t\t'NT':'Northern Territory',\n",
    "\t\t'SA':'South Australia',\n",
    "\t\t\"ACT\": 'Australian Capital Territory'}"
   ]
  },
  {
   "cell_type": "code",
   "execution_count": 16,
   "id": "91a39ede",
   "metadata": {},
   "outputs": [
    {
     "name": "stdout",
     "output_type": "stream",
     "text": [
      "{'2025': {'Australian Capital Territory': '[{\"Weekday\":\"Friday\",\"Count\":3},{\"Weekday\":\"Monday\",\"Count\":6},{\"Weekday\":\"Saturday\",\"Count\":1},{\"Weekday\":\"Sunday\",\"Count\":1},{\"Weekday\":\"Thursday\",\"Count\":1},{\"Weekday\":\"Wednesday\",\"Count\":1}]', 'New South Wales': '[{\"Weekday\":\"Friday\",\"Count\":3},{\"Weekday\":\"Monday\",\"Count\":4},{\"Weekday\":\"Saturday\",\"Count\":1},{\"Weekday\":\"Sunday\",\"Count\":1},{\"Weekday\":\"Thursday\",\"Count\":1},{\"Weekday\":\"Wednesday\",\"Count\":1}]', 'Northern Territory': '[{\"Weekday\":\"Friday\",\"Count\":3},{\"Weekday\":\"Monday\",\"Count\":5},{\"Weekday\":\"Saturday\",\"Count\":1},{\"Weekday\":\"Sunday\",\"Count\":1},{\"Weekday\":\"Thursday\",\"Count\":1},{\"Weekday\":\"Wednesday\",\"Count\":1}]', 'Queensland': '[{\"Weekday\":\"Friday\",\"Count\":3},{\"Weekday\":\"Monday\",\"Count\":4},{\"Weekday\":\"Saturday\",\"Count\":1},{\"Weekday\":\"Sunday\",\"Count\":1},{\"Weekday\":\"Thursday\",\"Count\":1},{\"Weekday\":\"Wednesday\",\"Count\":2}]', 'South Australia': '[{\"Weekday\":\"Friday\",\"Count\":3},{\"Weekday\":\"Monday\",\"Count\":5},{\"Weekday\":\"Saturday\",\"Count\":1},{\"Weekday\":\"Sunday\",\"Count\":1},{\"Weekday\":\"Thursday\",\"Count\":1},{\"Weekday\":\"Wednesday\",\"Count\":1}]', 'Tasmania': '[{\"Weekday\":\"Friday\",\"Count\":3},{\"Weekday\":\"Monday\",\"Count\":4},{\"Weekday\":\"Thursday\",\"Count\":1},{\"Weekday\":\"Wednesday\",\"Count\":1}]', 'Victoria': '[{\"Weekday\":\"Friday\",\"Count\":4},{\"Weekday\":\"Monday\",\"Count\":4},{\"Weekday\":\"Saturday\",\"Count\":1},{\"Weekday\":\"Sunday\",\"Count\":1},{\"Weekday\":\"Thursday\",\"Count\":1},{\"Weekday\":\"Tuesday\",\"Count\":1},{\"Weekday\":\"Wednesday\",\"Count\":1}]', 'Western Australia': '[{\"Weekday\":\"Friday\",\"Count\":3},{\"Weekday\":\"Monday\",\"Count\":5},{\"Weekday\":\"Sunday\",\"Count\":1},{\"Weekday\":\"Thursday\",\"Count\":1},{\"Weekday\":\"Wednesday\",\"Count\":1}]'}, '2026': {'Australian Capital Territory': '[{\"Weekday\":\"Friday\",\"Count\":2},{\"Weekday\":\"Monday\",\"Count\":7},{\"Weekday\":\"Saturday\",\"Count\":2},{\"Weekday\":\"Sunday\",\"Count\":1},{\"Weekday\":\"Thursday\",\"Count\":1}]', 'New South Wales': '[{\"Weekday\":\"Friday\",\"Count\":2},{\"Weekday\":\"Monday\",\"Count\":5},{\"Weekday\":\"Saturday\",\"Count\":2},{\"Weekday\":\"Sunday\",\"Count\":1},{\"Weekday\":\"Thursday\",\"Count\":1}]', 'Northern Territory': '[{\"Weekday\":\"Friday\",\"Count\":2},{\"Weekday\":\"Monday\",\"Count\":6},{\"Weekday\":\"Saturday\",\"Count\":2},{\"Weekday\":\"Sunday\",\"Count\":1},{\"Weekday\":\"Thursday\",\"Count\":1}]', 'Queensland': '[{\"Weekday\":\"Friday\",\"Count\":2},{\"Weekday\":\"Monday\",\"Count\":5},{\"Weekday\":\"Saturday\",\"Count\":2},{\"Weekday\":\"Sunday\",\"Count\":1},{\"Weekday\":\"Thursday\",\"Count\":1},{\"Weekday\":\"Wednesday\",\"Count\":1}]', 'South Australia': '[{\"Weekday\":\"Friday\",\"Count\":2},{\"Weekday\":\"Monday\",\"Count\":6},{\"Weekday\":\"Saturday\",\"Count\":2},{\"Weekday\":\"Sunday\",\"Count\":1},{\"Weekday\":\"Thursday\",\"Count\":1}]', 'Tasmania': '[{\"Weekday\":\"Friday\",\"Count\":2},{\"Weekday\":\"Monday\",\"Count\":5},{\"Weekday\":\"Saturday\",\"Count\":1},{\"Weekday\":\"Thursday\",\"Count\":1}]', 'Victoria': '[{\"Weekday\":\"Friday\",\"Count\":3},{\"Weekday\":\"Monday\",\"Count\":5},{\"Weekday\":\"Saturday\",\"Count\":2},{\"Weekday\":\"Sunday\",\"Count\":1},{\"Weekday\":\"Thursday\",\"Count\":1},{\"Weekday\":\"Tuesday\",\"Count\":1}]', 'Western Australia': '[{\"Weekday\":\"Friday\",\"Count\":2},{\"Weekday\":\"Monday\",\"Count\":7},{\"Weekday\":\"Sunday\",\"Count\":1},{\"Weekday\":\"Thursday\",\"Count\":1}]'}, '2027': {'Australian Capital Territory': '[{\"Weekday\":\"Friday\",\"Count\":2},{\"Weekday\":\"Monday\",\"Count\":7},{\"Weekday\":\"Saturday\",\"Count\":1},{\"Weekday\":\"Sunday\",\"Count\":1},{\"Weekday\":\"Tuesday\",\"Count\":2}]', 'New South Wales': '[{\"Weekday\":\"Friday\",\"Count\":2},{\"Weekday\":\"Monday\",\"Count\":4},{\"Weekday\":\"Saturday\",\"Count\":1},{\"Weekday\":\"Sunday\",\"Count\":2},{\"Weekday\":\"Tuesday\",\"Count\":2}]', 'Northern Territory': '[{\"Weekday\":\"Friday\",\"Count\":2},{\"Weekday\":\"Monday\",\"Count\":6},{\"Weekday\":\"Saturday\",\"Count\":1},{\"Weekday\":\"Sunday\",\"Count\":1},{\"Weekday\":\"Tuesday\",\"Count\":2}]', 'Queensland': '[{\"Weekday\":\"Friday\",\"Count\":2},{\"Weekday\":\"Monday\",\"Count\":5},{\"Weekday\":\"Saturday\",\"Count\":1},{\"Weekday\":\"Sunday\",\"Count\":1},{\"Weekday\":\"Tuesday\",\"Count\":2},{\"Weekday\":\"Wednesday\",\"Count\":1}]', 'South Australia': '[{\"Weekday\":\"Friday\",\"Count\":2},{\"Weekday\":\"Monday\",\"Count\":5},{\"Weekday\":\"Saturday\",\"Count\":1},{\"Weekday\":\"Sunday\",\"Count\":2},{\"Weekday\":\"Tuesday\",\"Count\":2}]', 'Tasmania': '[{\"Weekday\":\"Friday\",\"Count\":2},{\"Weekday\":\"Monday\",\"Count\":4},{\"Weekday\":\"Sunday\",\"Count\":1},{\"Weekday\":\"Tuesday\",\"Count\":2}]', 'Victoria': '[{\"Weekday\":\"Friday\",\"Count\":3},{\"Weekday\":\"Monday\",\"Count\":4},{\"Weekday\":\"Saturday\",\"Count\":1},{\"Weekday\":\"Sunday\",\"Count\":2},{\"Weekday\":\"Tuesday\",\"Count\":3}]', 'Western Australia': '[{\"Weekday\":\"Friday\",\"Count\":2},{\"Weekday\":\"Monday\",\"Count\":6},{\"Weekday\":\"Sunday\",\"Count\":1},{\"Weekday\":\"Tuesday\",\"Count\":2}]'}, '2028': {'Australian Capital Territory': '[{\"Weekday\":\"Friday\",\"Count\":1},{\"Weekday\":\"Monday\",\"Count\":7},{\"Weekday\":\"Saturday\",\"Count\":1},{\"Weekday\":\"Sunday\",\"Count\":1},{\"Weekday\":\"Tuesday\",\"Count\":2},{\"Weekday\":\"Wednesday\",\"Count\":1}]', 'New South Wales': '[{\"Weekday\":\"Friday\",\"Count\":1},{\"Weekday\":\"Monday\",\"Count\":5},{\"Weekday\":\"Saturday\",\"Count\":1},{\"Weekday\":\"Sunday\",\"Count\":1},{\"Weekday\":\"Tuesday\",\"Count\":2},{\"Weekday\":\"Wednesday\",\"Count\":1}]', 'Northern Territory': '[{\"Weekday\":\"Friday\",\"Count\":1},{\"Weekday\":\"Monday\",\"Count\":6},{\"Weekday\":\"Saturday\",\"Count\":1},{\"Weekday\":\"Sunday\",\"Count\":1},{\"Weekday\":\"Tuesday\",\"Count\":2},{\"Weekday\":\"Wednesday\",\"Count\":1}]', 'Queensland': '[{\"Weekday\":\"Friday\",\"Count\":1},{\"Weekday\":\"Monday\",\"Count\":5},{\"Weekday\":\"Saturday\",\"Count\":1},{\"Weekday\":\"Sunday\",\"Count\":1},{\"Weekday\":\"Tuesday\",\"Count\":2},{\"Weekday\":\"Wednesday\",\"Count\":2}]', 'South Australia': '[{\"Weekday\":\"Friday\",\"Count\":1},{\"Weekday\":\"Monday\",\"Count\":6},{\"Weekday\":\"Saturday\",\"Count\":1},{\"Weekday\":\"Sunday\",\"Count\":1},{\"Weekday\":\"Tuesday\",\"Count\":2},{\"Weekday\":\"Wednesday\",\"Count\":1}]', 'Tasmania': '[{\"Weekday\":\"Friday\",\"Count\":1},{\"Weekday\":\"Monday\",\"Count\":5},{\"Weekday\":\"Tuesday\",\"Count\":2},{\"Weekday\":\"Wednesday\",\"Count\":1}]', 'Victoria': '[{\"Weekday\":\"Friday\",\"Count\":2},{\"Weekday\":\"Monday\",\"Count\":5},{\"Weekday\":\"Saturday\",\"Count\":1},{\"Weekday\":\"Sunday\",\"Count\":1},{\"Weekday\":\"Tuesday\",\"Count\":3},{\"Weekday\":\"Wednesday\",\"Count\":1}]', 'Western Australia': '[{\"Weekday\":\"Friday\",\"Count\":1},{\"Weekday\":\"Monday\",\"Count\":6},{\"Weekday\":\"Sunday\",\"Count\":1},{\"Weekday\":\"Tuesday\",\"Count\":2},{\"Weekday\":\"Wednesday\",\"Count\":1}]'}}\n"
     ]
    }
   ],
   "source": [
    "data = pd.read_csv('input/combined.csv')\n",
    "# ['Date', 'Day', 'State', 'Weekday']\n",
    "\n",
    "data['Year'] = pd.to_datetime(data['Date']).dt.strftime(\"%Y\")\n",
    "\n",
    "data['Count'] = 1\n",
    "\n",
    "dicto = {}\n",
    "\n",
    "for year in data['Year'].unique().tolist():\n",
    "    inter = data.loc[data['Year'] == year].copy()\n",
    "    bet = {}\n",
    "\n",
    "    # uniques = inter.copy()\n",
    "    # uniques.drop_duplicates(subset=['Date'], inplace=True)\n",
    "    # pp(uniques)\n",
    "    # grp = uniques.groupby(by=['Weekday'])['Count'].sum().reset_index()\n",
    "    # bet['Australia'] = grp.to_json(orient='records')\n",
    "\n",
    "    for state in inter['State'].unique().tolist():\n",
    "        nother = inter.loc[inter['State'] == state].copy()\n",
    "        nother.drop_duplicates(subset=['Date'], inplace=True)\n",
    "\n",
    "        # Find holidays with \"(observed)\" suffix\n",
    "        observed_holidays = nother[nother['Day'].str.contains(r'\\(observed\\)', case=False, na=False)]\n",
    "\n",
    "        # For each observed holiday, find and remove the non-observed weekend version\n",
    "        for _, obs_row in observed_holidays.iterrows():\n",
    "            # Extract base holiday name (remove \" (observed)\")\n",
    "            base_name = obs_row['Day'].replace(' (observed)', '').replace(' (Observed)', '')\n",
    "\n",
    "            # Find the non-observed version that falls on weekend\n",
    "            weekend_version = nother[\n",
    "                (nother['Day'] == base_name) &\n",
    "                (nother['Weekday'].isin(['Saturday', 'Sunday']))\n",
    "            ]\n",
    "\n",
    "            # Drop the weekend version\n",
    "            if not weekend_version.empty:\n",
    "                nother = nother.drop(weekend_version.index)\n",
    "\n",
    "        grp = nother.groupby(by=['Weekday'])['Count'].sum().reset_index()\n",
    "        bet[rename[state]] = grp.to_json(orient='records')\n",
    "    \n",
    "    dicto[year] = bet\n",
    "\n",
    "print(dicto)\n",
    "with open('calculator/static/state_counts.json', 'w') as f:\n",
    "    json.dump(dicto, f, indent=4)"
   ]
  },
  {
   "cell_type": "code",
   "execution_count": 17,
   "id": "63487f80",
   "metadata": {},
   "outputs": [],
   "source": [
    "### Monday is the most common day overall\n",
    "\n",
    "# grp = data.groupby(by=['Weekday'])['Count'].sum().reset_index()\n",
    "# 0     Friday     68\n",
    "# 1     Monday    169\n",
    "# 2   Saturday     54\n",
    "# 3     Sunday     40\n",
    "# 4   Thursday     16\n",
    "# 5    Tuesday     36\n",
    "# 6  Wednesday     20\n",
    "\n",
    "# pp(grp)"
   ]
  },
  {
   "cell_type": "code",
   "execution_count": 18,
   "id": "ed76740b",
   "metadata": {},
   "outputs": [],
   "source": [
    "# ### Monday is the most common day next year\n",
    "\n",
    "# grp = data.groupby(by=['Year', 'Weekday'])['Count'].sum().reset_index()\n",
    "\n",
    "# grp = grp.loc[grp['Year'] == '2026']\n",
    "\n",
    "# pp(grp)"
   ]
  },
  {
   "cell_type": "code",
   "execution_count": 19,
   "id": "3e5863da",
   "metadata": {},
   "outputs": [
    {
     "name": "stdout",
     "output_type": "stream",
     "text": [
      "    Year State   Weekday  Count\n",
      "76  2026   VIC    Friday      3\n",
      "77  2026   VIC    Monday      5\n",
      "78  2026   VIC  Saturday      3\n",
      "79  2026   VIC    Sunday      1\n",
      "80  2026   VIC  Thursday      1\n",
      "81  2026   VIC   Tuesday      1\n",
      "['Year', 'State', 'Weekday', 'Count']\n"
     ]
    }
   ],
   "source": [
    "### \n",
    "\n",
    "grp = data.groupby(by=['Year', 'State', 'Weekday'])['Count'].sum().reset_index()\n",
    "\n",
    "grp = grp.loc[(grp['Year'] == '2026') & (grp['State'] == 'VIC')]\n",
    "\n",
    "\n",
    "pp(grp)"
   ]
  },
  {
   "cell_type": "code",
   "execution_count": 20,
   "id": "2298d560",
   "metadata": {},
   "outputs": [
    {
     "name": "stdout",
     "output_type": "stream",
     "text": [
      "           Date                    Day State   Weekday  Year  Count\n",
      "310  2026-04-03            Good Friday   VIC    Friday  2026      1\n",
      "311  2026-04-06          Easter Monday   VIC    Monday  2026      1\n",
      "312  2026-01-01         New Year's Day   VIC  Thursday  2026      1\n",
      "313  2026-01-26          Australia Day   VIC    Monday  2026      1\n",
      "314  2026-03-09             Labour Day   VIC    Monday  2026      1\n",
      "315  2026-04-04        Easter Saturday   VIC  Saturday  2026      1\n",
      "316  2026-04-05          Easter Sunday   VIC    Sunday  2026      1\n",
      "317  2026-04-25              ANZAC Day   VIC  Saturday  2026      1\n",
      "318  2026-06-08        King's Birthday   VIC    Monday  2026      1\n",
      "319  2026-09-25        Grand Final Day   VIC    Friday  2026      1\n",
      "320  2026-11-03      Melbourne Cup Day   VIC   Tuesday  2026      1\n",
      "321  2026-12-25          Christmas Day   VIC    Friday  2026      1\n",
      "322  2026-12-26             Boxing Day   VIC  Saturday  2026      1\n",
      "323  2026-12-28  Boxing Day (observed)   VIC    Monday  2026      1\n",
      "['Date', 'Day', 'State', 'Weekday', 'Year', 'Count']\n"
     ]
    }
   ],
   "source": [
    "vic = data.loc[data['State'] == 'VIC'].copy()\n",
    "vic = vic.loc[vic['Year'] == '2026']\n",
    "\n",
    "pp(vic)"
   ]
  }
 ],
 "metadata": {
  "kernelspec": {
   "display_name": "Python 3",
   "language": "python",
   "name": "python3"
  },
  "language_info": {
   "codemirror_mode": {
    "name": "ipython",
    "version": 3
   },
   "file_extension": ".py",
   "mimetype": "text/x-python",
   "name": "python",
   "nbconvert_exporter": "python",
   "pygments_lexer": "ipython3",
   "version": "3.13.1"
  }
 },
 "nbformat": 4,
 "nbformat_minor": 5
}
